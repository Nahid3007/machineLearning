{
 "cells": [
  {
   "cell_type": "code",
   "execution_count": 1,
   "id": "549e5503",
   "metadata": {},
   "outputs": [],
   "source": [
    "import numpy as np\n",
    "from sklearn.neighbors import KDTree"
   ]
  },
  {
   "cell_type": "code",
   "execution_count": 2,
   "id": "7ee5f5fb",
   "metadata": {},
   "outputs": [],
   "source": [
    "class Node:\n",
    "    def __init__(self, nid: str, x: str, y: str, z:str):\n",
    "        self.nid = int(nid)\n",
    "        self.x = float(x)\n",
    "        self.y = float(y)\n",
    "        self.z = float(z)\n",
    "        self.coordinates = np.array([self.x,self.y,self.z])\n",
    "        \n",
    "class CQUAD4:\n",
    "    def __init__(self, eid: str, n1: str, n2: str, n3: str, n4: str):\n",
    "        self.eid = int(eid)\n",
    "        self.n1 = int(n1)\n",
    "        self.n2 = int(n2)\n",
    "        self.n3 = int(n3)\n",
    "        self.n4 = int(n4)\n",
    "        self.attached_nodes = np.array([self.n1,self.n2,self.n3,self.n4])\n",
    "        \n",
    "    def face_centroid(self, nodes):\n",
    "        centroid = np.array([0.,0.,0.])\n",
    "        \n",
    "        for nid in self.attached_nodes:\n",
    "            centroid += nodes[str(nid)].coordinates\n",
    "               \n",
    "        centroid = centroid/len(self.attached_nodes)\n",
    "        \n",
    "        return centroid\n",
    "\n",
    "class CBUSH:\n",
    "    def __init__(self, eid: str, GA: str, GB: str):\n",
    "        self.eid = int(eid)\n",
    "        self.GA = int(GA)\n",
    "        self.GB = int(GB)\n",
    "        self.attached_nodes = np.array([self.GA,self.GB])"
   ]
  },
  {
   "cell_type": "code",
   "execution_count": 3,
   "id": "45b6b980",
   "metadata": {},
   "outputs": [],
   "source": [
    "infile_fast = 'FASTENER.dat'\n",
    "\n",
    "infile_lst = ['TOP.dat', 'BOTTOM.dat']"
   ]
  },
  {
   "cell_type": "code",
   "execution_count": 4,
   "id": "a485c8ee",
   "metadata": {},
   "outputs": [],
   "source": [
    "with open(infile_fast) as f:\n",
    "    lines = [line.strip() for line in f]\n",
    "    \n",
    "fast_nodes = {}\n",
    "cbush = {}\n",
    "\n",
    "for line in lines:\n",
    "    if line.startswith('GRID'):\n",
    "        nid = line[8:16].strip()\n",
    "        x = line[24:32]\n",
    "        y = line[32:40]\n",
    "        z = line[40:48]\n",
    "        fast_nodes[nid] = Node(nid,x.strip(),y.strip(),z.strip())\n",
    "    elif line.startswith('CBUSH'):\n",
    "        eid = line[8:16].strip()\n",
    "        GA = line[24:32]\n",
    "        GB = line[32:40]\n",
    "        cbush[eid] = CBUSH(eid,GA.strip(),GB.strip())"
   ]
  },
  {
   "cell_type": "code",
   "execution_count": 5,
   "id": "e544052b",
   "metadata": {},
   "outputs": [],
   "source": [
    "#for eid in sorted(cbush.keys()):\n",
    "#    print(eid, cbush[eid].attached_nodes)\n",
    "    \n",
    "#for nid in sorted(fast_nodes.keys()):\n",
    "#    print(nid, fast_nodes[nid].coordinates)\n",
    "\n",
    "# pnt = np.array([fast_nodes['3000'].coordinates])"
   ]
  },
  {
   "cell_type": "code",
   "execution_count": 28,
   "id": "1bfb7276",
   "metadata": {},
   "outputs": [
    {
     "name": "stdout",
     "output_type": "stream",
     "text": [
      "TOP.dat 3001 Pierced element id: ['2007'] Attached nodes: [2042 2038 2037 2041]\n",
      "BOTTOM.dat 3000 Pierced element id: ['1017'] Attached nodes: [1034 1030 1029 1033]\n"
     ]
    }
   ],
   "source": [
    "tst_dict = {}\n",
    "\n",
    "dist_tol = 1\n",
    "\n",
    "for infile in infile_lst:\n",
    "    \n",
    "    with open(infile) as f:\n",
    "        lines = [line.strip() for line in f]\n",
    "        \n",
    "    nodes = {}\n",
    "    cquad4 = {}\n",
    "\n",
    "    for line in lines:\n",
    "        if line.startswith('GRID'):\n",
    "            nid = line[8:16].strip()\n",
    "            x = line[24:32]\n",
    "            y = line[32:40]\n",
    "            z = line[40:48]\n",
    "            nodes[nid] = Node(nid,x.strip(),y.strip(),z.strip())\n",
    "        elif line.startswith('CQUAD4'):\n",
    "            eid = line[8:16].strip()\n",
    "            n1 = line[24:32]\n",
    "            n2 = line[32:40]\n",
    "            n3 = line[40:48]\n",
    "            n4 = line[48:56]\n",
    "            cquad4[eid] = CQUAD4(eid,n1.strip(),n2.strip(),n3.strip(),n4.strip())\n",
    "\n",
    "\n",
    "    centroids = np.zeros([len(nodes),3])\n",
    "\n",
    "    for i,eid in enumerate(sorted(cquad4.keys())):\n",
    "        centroids[i] = cquad4[eid].face_centroid(nodes)\n",
    "\n",
    "    tree = KDTree(centroids,leaf_size=40,metric='euclidean')\n",
    "        \n",
    "    for nid in sorted(fast_nodes.keys()):\n",
    "        \n",
    "        pnt = np.array([fast_nodes[nid].coordinates])\n",
    "        \n",
    "        dist,ind = tree.query(pnt,k=1)\n",
    "\n",
    "        if dist[0][0] < dist_tol:\n",
    "            pierced_elem = []\n",
    "            for i in ind[0]:\n",
    "                for eid in sorted(cquad4.keys()):\n",
    "                    if (cquad4[eid].face_centroid(nodes) == centroids[i]).all():\n",
    "                        pierced_elem.append(eid)\n",
    "\n",
    "            print(infile,\n",
    "                  nid,\n",
    "                  'Pierced element id:',pierced_elem,\n",
    "                  'Attached nodes:',cquad4[pierced_elem[0]].attached_nodes)\n",
    "            \n",
    "            if not infile in tst_dict:\n",
    "                tst_dict[infile] = [nid, pierced_elem[0], cquad4[pierced_elem[0]].attached_nodes]\n",
    "            else:\n",
    "                tst_dict[infile].extend(nid, pierced_elem[0], cquad4[pierced_elem[0]].attached_nodes)\n",
    "        "
   ]
  },
  {
   "cell_type": "code",
   "execution_count": 29,
   "id": "7f0ab5de",
   "metadata": {},
   "outputs": [
    {
     "name": "stdout",
     "output_type": "stream",
     "text": [
      "{'TOP.dat': ['3001', '2007', array([2042, 2038, 2037, 2041])], 'BOTTOM.dat': ['3000', '1017', array([1034, 1030, 1029, 1033])]}\n"
     ]
    }
   ],
   "source": [
    "print(tst_dict)"
   ]
  },
  {
   "cell_type": "code",
   "execution_count": null,
   "id": "8783160e",
   "metadata": {},
   "outputs": [],
   "source": [
    "tst_dict = {}\n",
    "\n",
    "tst_dict['eid'] = ['nid','Part']"
   ]
  },
  {
   "cell_type": "code",
   "execution_count": null,
   "id": "515b674c",
   "metadata": {},
   "outputs": [],
   "source": [
    "#if not nid in load:\n",
    "#                load[nid] = [ Load(nid, lineSplit[1], lineSplit[2]) ] \n",
    "#            else:\n",
    "#load[nid].append(Load(nid, lineSplit[1], lineSplit[2]))"
   ]
  },
  {
   "cell_type": "code",
   "execution_count": null,
   "id": "df58948d",
   "metadata": {},
   "outputs": [],
   "source": [
    "print(tst_dict)"
   ]
  },
  {
   "cell_type": "code",
   "execution_count": null,
   "id": "9e2783a8",
   "metadata": {},
   "outputs": [],
   "source": [
    "tst_dict['eid'].extend(['nid2','Part2'])"
   ]
  },
  {
   "cell_type": "code",
   "execution_count": null,
   "id": "c3067c2b",
   "metadata": {},
   "outputs": [],
   "source": [
    "print(tst_dict)"
   ]
  },
  {
   "cell_type": "code",
   "execution_count": null,
   "id": "f46a4abb",
   "metadata": {},
   "outputs": [],
   "source": []
  }
 ],
 "metadata": {
  "kernelspec": {
   "display_name": "Python 3 (ipykernel)",
   "language": "python",
   "name": "python3"
  },
  "language_info": {
   "codemirror_mode": {
    "name": "ipython",
    "version": 3
   },
   "file_extension": ".py",
   "mimetype": "text/x-python",
   "name": "python",
   "nbconvert_exporter": "python",
   "pygments_lexer": "ipython3",
   "version": "3.9.2"
  }
 },
 "nbformat": 4,
 "nbformat_minor": 5
}
